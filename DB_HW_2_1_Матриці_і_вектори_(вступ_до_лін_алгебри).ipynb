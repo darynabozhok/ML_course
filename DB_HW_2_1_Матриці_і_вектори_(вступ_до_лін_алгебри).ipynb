{
  "nbformat": 4,
  "nbformat_minor": 0,
  "metadata": {
    "colab": {
      "provenance": [],
      "include_colab_link": true
    },
    "kernelspec": {
      "name": "python3",
      "display_name": "Python 3"
    },
    "language_info": {
      "name": "python"
    }
  },
  "cells": [
    {
      "cell_type": "markdown",
      "metadata": {
        "id": "view-in-github",
        "colab_type": "text"
      },
      "source": [
        "<a href=\"https://colab.research.google.com/github/darynabozhok/ML_course/blob/main/DB_HW_2_1_%D0%9C%D0%B0%D1%82%D1%80%D0%B8%D1%86%D1%96_%D1%96_%D0%B2%D0%B5%D0%BA%D1%82%D0%BE%D1%80%D0%B8_(%D0%B2%D1%81%D1%82%D1%83%D0%BF_%D0%B4%D0%BE_%D0%BB%D1%96%D0%BD_%D0%B0%D0%BB%D0%B3%D0%B5%D0%B1%D1%80%D0%B8).ipynb\" target=\"_parent\"><img src=\"https://colab.research.google.com/assets/colab-badge.svg\" alt=\"Open In Colab\"/></a>"
      ]
    },
    {
      "cell_type": "markdown",
      "source": [
        "### Завдання 1: Створення матриць та векторів\n",
        "1. Створіть `numpy` вектор `vector` розмірністю 10 з випадковими дійсними значеннями в діапазоні від 0 до 1. Можна скористатись двома альтернативними варіантами:\n",
        "  1. Генерація випадкових чисел з модулем [`random.uniform`](https://docs.python.org/3/library/random.html).\n",
        "  2. Створення вектора з допомогою метода `numpy` [np.random.rand](https://numpy.org/doc/stable/reference/random/generated/numpy.random.rand.html)\n",
        "\n",
        "2. Створіть матрицю `matrix` типу `numpy.array` розмірності 3x3 з наступними значеннями\n",
        "\n",
        "  $$\n",
        "  matrix = \\begin{bmatrix}\n",
        "  11 & 14 & 17 \\\\\n",
        "  20 & 23 & 26 \\\\\n",
        "  29 & 32 & 35\n",
        "  \\end{bmatrix}\n",
        "  $$\n",
        "\n",
        "  будь-яким відомими Вам способом.\n",
        "\n",
        "Виведіть на екран вектор і матрицю, а також їх розміри.\n"
      ],
      "metadata": {
        "id": "efug1V4CM0lT"
      }
    },
    {
      "cell_type": "code",
      "source": [
        "import numpy as np"
      ],
      "metadata": {
        "id": "jxA_lG2_VIMe"
      },
      "execution_count": null,
      "outputs": []
    },
    {
      "cell_type": "code",
      "source": [
        "vector = np.random.rand(10)\n",
        "\n",
        "\n",
        "matrix = np.array([[11, 14, 17],\n",
        "                   [20, 23, 26],\n",
        "                   [29, 32, 35]])\n",
        "\n",
        "print(\"Вектор:\")\n",
        "print(vector, \"\\n\")\n",
        "print(f\"Розмір вектору: {vector.shape}\")\n",
        "print(\"\\nМатриця:\")\n",
        "print(matrix, \"\\n\")\n",
        "print(f\"Розмір матриці: {matrix.shape}\")"
      ],
      "metadata": {
        "colab": {
          "base_uri": "https://localhost:8080/"
        },
        "id": "e0SLBKs6mGGp",
        "outputId": "27b42327-54fc-48a5-d4a9-0833ab1dcc69"
      },
      "execution_count": null,
      "outputs": [
        {
          "output_type": "stream",
          "name": "stdout",
          "text": [
            "Вектор:\n",
            "[0.27755053 0.93380016 0.44765683 0.49988721 0.67509704 0.12370637\n",
            " 0.22019123 0.67820425 0.83641925 0.35067123] \n",
            "\n",
            "Розмір вектору: (10,)\n",
            "\n",
            "Матриця:\n",
            "[[11 14 17]\n",
            " [20 23 26]\n",
            " [29 32 35]] \n",
            "\n",
            "Розмір матриці: (3, 3)\n"
          ]
        }
      ]
    },
    {
      "cell_type": "markdown",
      "source": [
        "\n",
        "### Завдання 2: Операції над векторами та матрицями\n",
        "Виконайте кожну з зазначених операцій над зазначеними оʼєктами і виведіть результат на екран:\n",
        "1. Додайте до кожного значення вектора `vector` число 10 і округліть кожне значення до 2 знаків після коми без використання циклів.\n",
        "2. Помножте кожен елемент матриці з першого завдання на 2 без використання циклів.\n",
        "3. Створіть новий вектор, який містить квадрат кожного `vector` без циклів.\n"
      ],
      "metadata": {
        "id": "TSJ1P4OuOVe2"
      }
    },
    {
      "cell_type": "code",
      "source": [
        "vector_new = vector + 10\n",
        "\n",
        "print(\"Вектор:\")\n",
        "print(np.round(vector_new, 2), \"\\n\")"
      ],
      "metadata": {
        "id": "nAAojtyUVJXN",
        "colab": {
          "base_uri": "https://localhost:8080/"
        },
        "outputId": "9867b15c-7d4d-43eb-d456-e26a82ce9b61"
      },
      "execution_count": null,
      "outputs": [
        {
          "output_type": "stream",
          "name": "stdout",
          "text": [
            "Вектор:\n",
            "[10.28 10.93 10.45 10.5  10.68 10.12 10.22 10.68 10.84 10.35] \n",
            "\n"
          ]
        }
      ]
    },
    {
      "cell_type": "code",
      "source": [
        "matrix2 = matrix * 2\n",
        "\n",
        "print(\"Матриця * 2:\")\n",
        "print(matrix2, \"\\n\")\n"
      ],
      "metadata": {
        "colab": {
          "base_uri": "https://localhost:8080/"
        },
        "id": "4psw9ZS0q3ax",
        "outputId": "382b68bc-e5df-45ad-999d-f82838315c7c"
      },
      "execution_count": null,
      "outputs": [
        {
          "output_type": "stream",
          "name": "stdout",
          "text": [
            "Матриця * 2:\n",
            "[[22 28 34]\n",
            " [40 46 52]\n",
            " [58 64 70]] \n",
            "\n"
          ]
        }
      ]
    },
    {
      "cell_type": "code",
      "source": [
        "#варіант 1\n",
        "vector_2 = vector ** 2\n",
        "\n",
        "print(\"Вектор в квадраті:\")\n",
        "print(np.round(vector_2, 2), \"\\n\")"
      ],
      "metadata": {
        "colab": {
          "base_uri": "https://localhost:8080/"
        },
        "id": "PPSW-DWFq3je",
        "outputId": "35db147d-ea2f-40d1-c34c-496be29e2b73"
      },
      "execution_count": null,
      "outputs": [
        {
          "output_type": "stream",
          "name": "stdout",
          "text": [
            "Вектор в квадраті:\n",
            "[0.08 0.87 0.2  0.25 0.46 0.02 0.05 0.46 0.7  0.12] \n",
            "\n"
          ]
        }
      ]
    },
    {
      "cell_type": "code",
      "source": [
        "#варіант 2\n",
        "vector_2ex = np.square(vector)\n",
        "\n",
        "print(\"Вектор в квадраті:\")\n",
        "print(np.round(vector_2ex, 2), \"\\n\")"
      ],
      "metadata": {
        "colab": {
          "base_uri": "https://localhost:8080/"
        },
        "id": "ovA8ctsFuY69",
        "outputId": "9c33f457-6314-401f-b0f0-fd890a614d17"
      },
      "execution_count": null,
      "outputs": [
        {
          "output_type": "stream",
          "name": "stdout",
          "text": [
            "Вектор в квадраті:\n",
            "[0.08 0.87 0.2  0.25 0.46 0.02 0.05 0.46 0.7  0.12] \n",
            "\n"
          ]
        }
      ]
    },
    {
      "cell_type": "markdown",
      "source": [
        "\n",
        "### Завдання 3: Множення матриць\n",
        "1. Задані дві матриці `A` і `B`розмірностями 3x2 та 2х3. Виконайте їхнє множення, щоб отримати матрицю 2x2. Виведіть результуючу матрицю `result_matrix` на екран.\n",
        "\n",
        "2. Заданий вектор `C` розмірністю 2х1. Подумайте спочатку, яку розмірність Ви отрмаєте, коли домножите `result_matrix` на вектор `C` і який результат буде. А потім виконайте множення і виведіть результат на екран.\n",
        "\n",
        "3. Задана матриця `D` розмірністю 2х2. Подумайте спочатку, яку розмірність Ви отрмаєте, коли домножите `result_matrix` на матрицю `D` і який результат буде. А потім виконайте множення і виведіть результат на екран."
      ],
      "metadata": {
        "id": "u6RvWVfhPy-k"
      }
    },
    {
      "cell_type": "code",
      "source": [
        "A = np.array(\n",
        "    [[0.18, 0.53],\n",
        "     [0.75, 0.47],\n",
        "     [0.35, 0.21]])\n",
        "\n",
        "B = np.array(\n",
        "    [[0.17, 0.58, 0.75],\n",
        "     [0.38, 0.11, 0.15]])\n",
        "\n",
        "C = np.array([[0], [1]])\n",
        "\n",
        "D = np.array([[0,1], [1,0]])\n",
        "\n",
        "display(A, B, C, D)"
      ],
      "metadata": {
        "id": "RwXfPzlbSJ44",
        "colab": {
          "base_uri": "https://localhost:8080/",
          "height": 173
        },
        "outputId": "6e7f67de-418b-4b83-c89d-61e84b796819"
      },
      "execution_count": null,
      "outputs": [
        {
          "output_type": "display_data",
          "data": {
            "text/plain": [
              "array([[0.18, 0.53],\n",
              "       [0.75, 0.47],\n",
              "       [0.35, 0.21]])"
            ]
          },
          "metadata": {}
        },
        {
          "output_type": "display_data",
          "data": {
            "text/plain": [
              "array([[0.17, 0.58, 0.75],\n",
              "       [0.38, 0.11, 0.15]])"
            ]
          },
          "metadata": {}
        },
        {
          "output_type": "display_data",
          "data": {
            "text/plain": [
              "array([[0],\n",
              "       [1]])"
            ]
          },
          "metadata": {}
        },
        {
          "output_type": "display_data",
          "data": {
            "text/plain": [
              "array([[0, 1],\n",
              "       [1, 0]])"
            ]
          },
          "metadata": {}
        }
      ]
    },
    {
      "cell_type": "code",
      "source": [
        "result_matrix = np.dot(B, A)\n",
        "\n",
        "print(\"\\nМатриця:\")\n",
        "print(result_matrix, \"\\n\")\n",
        "print(f\"Розмір матриці: {result_matrix.shape}\")"
      ],
      "metadata": {
        "id": "z7-boTbhVKkj",
        "colab": {
          "base_uri": "https://localhost:8080/"
        },
        "outputId": "3b200350-8198-4c9b-99d0-b699b7770132"
      },
      "execution_count": null,
      "outputs": [
        {
          "output_type": "stream",
          "name": "stdout",
          "text": [
            "\n",
            "Матриця:\n",
            "[[0.7281 0.5202]\n",
            " [0.2034 0.2846]] \n",
            "\n",
            "Розмір матриці: (2, 2)\n"
          ]
        }
      ]
    },
    {
      "cell_type": "code",
      "source": [
        "result_vector = np.dot(result_matrix, C)\n",
        "\n",
        "print(\"Вектор:\")\n",
        "print(result_vector, \"\\n\")\n",
        "print(f\"Розмір вектору: {result_vector.shape}\")"
      ],
      "metadata": {
        "colab": {
          "base_uri": "https://localhost:8080/"
        },
        "id": "05_Feee5ur77",
        "outputId": "767b0b6a-20bc-484e-8cee-952b09bf2243"
      },
      "execution_count": null,
      "outputs": [
        {
          "output_type": "stream",
          "name": "stdout",
          "text": [
            "Вектор:\n",
            "[[0.5202]\n",
            " [0.2846]] \n",
            "\n",
            "Розмір вектору: (2, 1)\n"
          ]
        }
      ]
    },
    {
      "cell_type": "code",
      "source": [
        "result = np.dot(result_matrix, D)\n",
        "\n",
        "print(\"\\nМатриця:\")\n",
        "print(result, \"\\n\")\n",
        "print(f\"Розмір матриці: {result.shape}\")"
      ],
      "metadata": {
        "colab": {
          "base_uri": "https://localhost:8080/"
        },
        "id": "4oqwhmkvuu5D",
        "outputId": "5447dad8-6aff-4b6b-efe9-56acfa31a87f"
      },
      "execution_count": null,
      "outputs": [
        {
          "output_type": "stream",
          "name": "stdout",
          "text": [
            "\n",
            "Матриця:\n",
            "[[0.5202 0.7281]\n",
            " [0.2846 0.2034]] \n",
            "\n",
            "Розмір матриці: (2, 2)\n"
          ]
        }
      ]
    },
    {
      "cell_type": "markdown",
      "source": [
        "\n",
        "### Завдання 4: Транспонування матриць\n",
        "1. Транспонуйте `result_matrix`.\n",
        "2. Зробіть транспонування вектора `vector` і виведіть форму нової структури. Чи бачите ви зміну?\n",
        "3. Використайте операцію `numpy.expand_dims` над вектором `vector` з аргументом axis=1. Запишіть отриманий результат в змінну `column_vector` і виведіть на екран. Порівняйте з `vector`.\n",
        "4. Зробіть транспонування `column_vector`, виведіть результат на екран разом з розмірностями отриманої структури.\n",
        "\n",
        "\n"
      ],
      "metadata": {
        "id": "wohp0_cxSGpl"
      }
    },
    {
      "cell_type": "code",
      "source": [
        "T_result_matrix = result_matrix.T\n",
        "\n",
        "print(\"\\nТранспонована матриця:\")\n",
        "print(T_result_matrix, \"\\n\")\n",
        "print(f\"Розмір матриці: {T_result_matrix.shape}\")"
      ],
      "metadata": {
        "id": "4hFcq1baVLii",
        "colab": {
          "base_uri": "https://localhost:8080/"
        },
        "outputId": "d67deab1-5c19-4296-cf48-e5cb0516aaaa"
      },
      "execution_count": null,
      "outputs": [
        {
          "output_type": "stream",
          "name": "stdout",
          "text": [
            "\n",
            "Транспонована матриця:\n",
            "[[0.7281 0.2034]\n",
            " [0.5202 0.2846]] \n",
            "\n",
            "Розмір матриці: (2, 2)\n"
          ]
        }
      ]
    },
    {
      "cell_type": "code",
      "source": [
        "T_vector = vector.T\n",
        "\n",
        "\n",
        "print(\"\\nВектор:\")\n",
        "print(vector, \"\\n\")\n",
        "print(f\"Розмір вектора: {vector.shape}\")\n",
        "\n",
        "print(\"\\nТранспонований вектор:\")\n",
        "print(T_vector, \"\\n\")\n",
        "print(f\"Розмір вектора: {T_vector.shape}\")"
      ],
      "metadata": {
        "colab": {
          "base_uri": "https://localhost:8080/"
        },
        "id": "pfvmcHkDu5Yg",
        "outputId": "5494c58c-b8e3-4f7e-f700-023f61f4c259"
      },
      "execution_count": null,
      "outputs": [
        {
          "output_type": "stream",
          "name": "stdout",
          "text": [
            "\n",
            "Вектор:\n",
            "[0.27755053 0.93380016 0.44765683 0.49988721 0.67509704 0.12370637\n",
            " 0.22019123 0.67820425 0.83641925 0.35067123] \n",
            "\n",
            "Розмір вектора: (10,)\n",
            "\n",
            "Транспонований вектор:\n",
            "[0.27755053 0.93380016 0.44765683 0.49988721 0.67509704 0.12370637\n",
            " 0.22019123 0.67820425 0.83641925 0.35067123] \n",
            "\n",
            "Розмір вектора: (10,)\n"
          ]
        }
      ]
    },
    {
      "cell_type": "markdown",
      "source": [
        "вектор не змінився"
      ],
      "metadata": {
        "id": "V-OaV2AC93uq"
      }
    },
    {
      "cell_type": "code",
      "source": [
        "column_vector = np.expand_dims(vector, axis=1)\n",
        "\n",
        "print(\"\\nВектор-стовпчик:\")\n",
        "print(column_vector, \"\\n\")\n",
        "print(f\"Розмір вектора-стовпчика: {column_vector.shape}\")\n",
        "\n",
        "\n",
        "print(\"\\nВектор:\")\n",
        "print(vector, \"\\n\")\n",
        "print(f\"Розмір вектора: {vector.shape}\")\n",
        "\n"
      ],
      "metadata": {
        "colab": {
          "base_uri": "https://localhost:8080/"
        },
        "id": "pPr29ccTv7VS",
        "outputId": "ed336fb1-ad39-4e81-9b7f-e52ade0273ce"
      },
      "execution_count": null,
      "outputs": [
        {
          "output_type": "stream",
          "name": "stdout",
          "text": [
            "\n",
            "Вектор-стовпчик:\n",
            "[[0.27755053]\n",
            " [0.93380016]\n",
            " [0.44765683]\n",
            " [0.49988721]\n",
            " [0.67509704]\n",
            " [0.12370637]\n",
            " [0.22019123]\n",
            " [0.67820425]\n",
            " [0.83641925]\n",
            " [0.35067123]] \n",
            "\n",
            "Розмір вектора-стовпчика: (10, 1)\n",
            "\n",
            "Вектор:\n",
            "[0.27755053 0.93380016 0.44765683 0.49988721 0.67509704 0.12370637\n",
            " 0.22019123 0.67820425 0.83641925 0.35067123] \n",
            "\n",
            "Розмір вектора: (10,)\n"
          ]
        }
      ]
    },
    {
      "cell_type": "markdown",
      "source": [
        "За допомогою операції numpy.expand_dims отримали вектор-стовпчик. vector початковий є вектором-рядком.\n",
        "\n"
      ],
      "metadata": {
        "id": "qTkeOGUg-Ei4"
      }
    },
    {
      "cell_type": "code",
      "source": [
        "T_column_vector = column_vector.T\n",
        "\n",
        "print(\"\\nТранспонований вектор:\")\n",
        "print(T_column_vector, \"\\n\")\n",
        "print(f\"Розмір вектора: {T_column_vector.shape}\")"
      ],
      "metadata": {
        "colab": {
          "base_uri": "https://localhost:8080/"
        },
        "id": "5NmnTdh3xDTj",
        "outputId": "de6ff7ad-2c64-4854-daf9-04b31e2dde67"
      },
      "execution_count": null,
      "outputs": [
        {
          "output_type": "stream",
          "name": "stdout",
          "text": [
            "\n",
            "Транспонований вектор:\n",
            "[[0.27755053 0.93380016 0.44765683 0.49988721 0.67509704 0.12370637\n",
            "  0.22019123 0.67820425 0.83641925 0.35067123]] \n",
            "\n",
            "Розмір вектора: (1, 10)\n"
          ]
        }
      ]
    },
    {
      "cell_type": "markdown",
      "source": [
        "після транспонування вектор-стовпчик став вектором-рядком"
      ],
      "metadata": {
        "id": "n7Tmf9XM-1F_"
      }
    }
  ]
}